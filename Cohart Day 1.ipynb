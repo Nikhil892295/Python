{
 "cells": [
  {
   "cell_type": "code",
   "execution_count": 1,
   "id": "dca4ec1e-ec52-4dac-81f0-b0b1ac56b653",
   "metadata": {},
   "outputs": [],
   "source": [
    "x = \"nikhil\""
   ]
  },
  {
   "cell_type": "code",
   "execution_count": 2,
   "id": "20c48748-0975-4c2c-8b6a-5771d2dee364",
   "metadata": {},
   "outputs": [],
   "source": [
    "y=898"
   ]
  },
  {
   "cell_type": "code",
   "execution_count": 3,
   "id": "96508635-ae61-40df-8081-0b2eaf7128f6",
   "metadata": {},
   "outputs": [
    {
     "data": {
      "text/plain": [
       "'nikhil'"
      ]
     },
     "execution_count": 3,
     "metadata": {},
     "output_type": "execute_result"
    }
   ],
   "source": [
    "x\n"
   ]
  },
  {
   "cell_type": "code",
   "execution_count": 4,
   "id": "f714cfa5-6643-4c94-bdcf-66f8cadfc70b",
   "metadata": {},
   "outputs": [
    {
     "name": "stdout",
     "output_type": "stream",
     "text": [
      "Note: you may need to restart the kernel to use updated packages.\n"
     ]
    },
    {
     "name": "stderr",
     "output_type": "stream",
     "text": [
      "ERROR: Could not find a version that satisfies the requirement cv2 (from versions: none)\n",
      "ERROR: No matching distribution found for cv2\n"
     ]
    }
   ],
   "source": [
    "pip  install cv2\n"
   ]
  },
  {
   "cell_type": "code",
   "execution_count": 5,
   "id": "e59b8219-5542-482d-b346-f71e9df63335",
   "metadata": {},
   "outputs": [],
   "source": [
    "import cv2\n"
   ]
  },
  {
   "cell_type": "code",
   "execution_count": 6,
   "id": "30fe9595-c90b-44bc-9c7e-7edbf1174452",
   "metadata": {},
   "outputs": [
    {
     "name": "stdout",
     "output_type": "stream",
     "text": [
      "ndfhgdf\n"
     ]
    }
   ],
   "source": [
    "print(\"ndfhgdf\")"
   ]
  },
  {
   "cell_type": "code",
   "execution_count": 7,
   "id": "fa05714e-efae-4beb-a48d-5502de6c840f",
   "metadata": {},
   "outputs": [
    {
     "name": "stdout",
     "output_type": "stream",
     "text": [
      "nikhil\n"
     ]
    }
   ],
   "source": [
    "print(x)\n"
   ]
  },
  {
   "cell_type": "code",
   "execution_count": 1,
   "id": "afd9d465-aafc-4135-ab62-a32d25e55bab",
   "metadata": {},
   "outputs": [],
   "source": [
    "number1 = 8\n",
    "\n"
   ]
  },
  {
   "cell_type": "code",
   "execution_count": 2,
   "id": "2d52fa99-69de-48ff-860c-7de4db8ef18b",
   "metadata": {},
   "outputs": [],
   "source": [
    "number2 = 34"
   ]
  },
  {
   "cell_type": "code",
   "execution_count": 3,
   "id": "56e8f3cc-7505-4ab2-931e-fdfca9f8b83b",
   "metadata": {},
   "outputs": [],
   "source": [
    "result = number1 + number2"
   ]
  },
  {
   "cell_type": "code",
   "execution_count": 4,
   "id": "c3cc3804-b353-442b-96d9-4518839c0230",
   "metadata": {},
   "outputs": [
    {
     "name": "stdout",
     "output_type": "stream",
     "text": [
      "the sum of no.1 and no.2: 42\n"
     ]
    }
   ],
   "source": [
    "print (\"the sum of no.1 and no.2:\" , result)"
   ]
  },
  {
   "cell_type": "code",
   "execution_count": 9,
   "id": "806749cb-248f-411c-ac41-d1301d0c8d76",
   "metadata": {},
   "outputs": [
    {
     "name": "stdout",
     "output_type": "stream",
     "text": [
      "42\n"
     ]
    }
   ],
   "source": [
    "print(result)"
   ]
  },
  {
   "cell_type": "code",
   "execution_count": 5,
   "id": "cf7d5df5-faee-4379-b7d0-0bf28903f405",
   "metadata": {},
   "outputs": [],
   "source": [
    "a = 1"
   ]
  },
  {
   "cell_type": "code",
   "execution_count": 6,
   "id": "b654f1ae-5253-4681-92be-1ffdf5be0441",
   "metadata": {},
   "outputs": [],
   "source": [
    "b=2"
   ]
  },
  {
   "cell_type": "code",
   "execution_count": 7,
   "id": "fb5cafc5-b50b-4ba2-8724-128d32cb0cd5",
   "metadata": {},
   "outputs": [],
   "source": [
    "c = a+b"
   ]
  },
  {
   "cell_type": "code",
   "execution_count": 8,
   "id": "d5f4998d-ebb5-4ba4-a8d5-b69e754d70e8",
   "metadata": {},
   "outputs": [
    {
     "name": "stdout",
     "output_type": "stream",
     "text": [
      "3\n"
     ]
    }
   ],
   "source": [
    "print(c)"
   ]
  },
  {
   "cell_type": "code",
   "execution_count": null,
   "id": "cd364618-26c7-4791-85a4-f058c34544d9",
   "metadata": {},
   "outputs": [],
   "source": []
  }
 ],
 "metadata": {
  "kernelspec": {
   "display_name": "Python 3 (ipykernel)",
   "language": "python",
   "name": "python3"
  },
  "language_info": {
   "codemirror_mode": {
    "name": "ipython",
    "version": 3
   },
   "file_extension": ".py",
   "mimetype": "text/x-python",
   "name": "python",
   "nbconvert_exporter": "python",
   "pygments_lexer": "ipython3",
   "version": "3.12.5"
  }
 },
 "nbformat": 4,
 "nbformat_minor": 5
}
